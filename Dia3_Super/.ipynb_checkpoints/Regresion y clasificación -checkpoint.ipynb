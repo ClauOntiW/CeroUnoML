{
 "cells": [
  {
   "cell_type": "markdown",
   "metadata": {},
   "source": [
    "# Regresión (con pandas y pyplot)"
   ]
  },
  {
   "cell_type": "code",
   "execution_count": null,
   "metadata": {},
   "outputs": [],
   "source": [
    "import csv  # moculo para leer diferentes formatos de archivos, entre ellos separados por ',' comas\n",
    "            # como analista de datos te enfrentaras a muchos tipos de formatos, separados por ';', '|', tabuladores \n",
    "            # y lo que se le acurre a cada quien, siempre presta atencion a ello \n",
    "import pandas as pd  # recuerdas que puedes usar los alias que quieras para las librerias ? es costumbre llamara 'pd' a pandas\n",
    "import numpy as np   # una genial implementacion de algebra lineal \n",
    "import matplotlib.pyplot as plt  # tambien es costumbre llamar 'plt' a el modulo 'pyplot' de 'matplotlib'"
   ]
  },
  {
   "cell_type": "markdown",
   "metadata": {},
   "source": [
    "Aprovechando que estamos familiarizadas con el conjunto de datos de ciudades y sus temperaturas veamos si existe una __relación\n",
    "lineal__ entre las coordenadas, individualmente, con la temperatura"
   ]
  },
  {
   "cell_type": "code",
   "execution_count": null,
   "metadata": {},
   "outputs": [],
   "source": [
    "cities = pd.read_csv('Cities.csv') # leemos nuestra bendita fuente de informacion\n",
    "                                   # recuerda: en la vida real, pocas veces tu data set esta completo, limpio y ordenado "
   ]
  },
  {
   "cell_type": "code",
   "execution_count": null,
   "metadata": {},
   "outputs": [],
   "source": [
    "# Recordemos que siempre es bueno un EDA sencillito \n",
    "cities.plot.scatter(x='latitude', y='temperature')\n",
    "plt.show()"
   ]
  },
  {
   "cell_type": "code",
   "execution_count": null,
   "metadata": {},
   "outputs": [],
   "source": [
    "cities.plot.scatter(x='longitude', y='temperature')\n",
    "plt.show()"
   ]
  },
  {
   "cell_type": "code",
   "execution_count": null,
   "metadata": {},
   "outputs": [],
   "source": [
    "# Scatter plot de nuestras variables de interes\n",
    "cities.plot.scatter(x='longitude', y='latitude')\n",
    "plt.show()"
   ]
  },
  {
   "cell_type": "code",
   "execution_count": null,
   "metadata": {},
   "outputs": [],
   "source": [
    "train = cities # entrenemos con todas las ciudades\n",
    "train.city.values[0:6] # las primeras 6 ciudades"
   ]
  },
  {
   "cell_type": "code",
   "execution_count": null,
   "metadata": {},
   "outputs": [],
   "source": [
    "plt.scatter(train.latitude, train.temperature, color='lightblue') # elegimos la latitud porque presenta mayor relacion lineal\n",
    "a,b = np.polyfit(train.latitude, train.temperature, 1) # calculo de los coeficientes ordenada al origen y pendiente \n",
    "                                                       # en una sola linea\n",
    "x1 = min(train.latitude) # definamos los limites de la recta para dibujarla\n",
    "x2 = max(train.latitude)\n",
    "plt.plot([x1,x2], [a*x1 + b, a*x2 + b], color='purple')\n",
    "plt.show() # que opinas ? ajusta bien \n"
   ]
  },
  {
   "cell_type": "markdown",
   "metadata": {},
   "source": [
    "# Clasificación (knn, árboles y random forest)"
   ]
  },
  {
   "cell_type": "code",
   "execution_count": null,
   "metadata": {},
   "outputs": [],
   "source": [
    "from sklearn.neighbors import KNeighborsClassifier #carguemos lo minimo y suficiente\n",
    "from sklearn.tree import DecisionTreeClassifier\n",
    "from sklearn.ensemble import RandomForestClassifier"
   ]
  },
  {
   "cell_type": "markdown",
   "metadata": {},
   "source": [
    "Como la variable original es continua definamos con ella una variable nominal con límites prudentes, en CDMX."
   ]
  },
  {
   "cell_type": "code",
   "execution_count": null,
   "metadata": {},
   "outputs": [],
   "source": [
    "cats = [] # no por 'gatitos' sino por cat-egoria-s\n",
    "for i in range(len(cities)):\n",
    "    if cities.loc[i]['temperature'] < 12:\n",
    "        cats.append('Frio')\n",
    "    elif cities.loc[i]['temperature'] < 18:\n",
    "        cats.append('Casual')\n",
    "    else: cats.append('El abrazo de Monti')\n",
    "cities['category'] = cats\n",
    "print (\"Frio:\", len(cities[(cities.category == 'Frio')]))\n",
    "print (\"Casual:\", len(cities[(cities.category == 'Casual')]))\n",
    "print (\"El abrazo de Monti:\", len(cities[(cities.category == 'El abrazo de Monti')]))"
   ]
  },
  {
   "cell_type": "markdown",
   "metadata": {},
   "source": [
    "Por fin vamos a utilizar nuestro famoso concepto de conjunto *train* y *test*\n"
   ]
  },
  {
   "cell_type": "code",
   "execution_count": null,
   "metadata": {},
   "outputs": [],
   "source": [
    "numitems = len(cities) #tamanio de muestra\n",
    "percenttrain = 0.7     # fijemos 70% como entrenamiento\n",
    "numtrain = int(numitems*percenttrain) #casteo a entero\n",
    "numtest = numitems - numtrain \n",
    "print ('Conjunto de Training con ', numtrain, 'observaciones')\n",
    "print ('Conjunto de test con ', numtest, 'registros')\n",
    "citiesTrain = cities[0:numtrain]\n",
    "citiesTest = cities[numtrain:]"
   ]
  },
  {
   "cell_type": "markdown",
   "metadata": {},
   "source": [
    "Vamos a entrenar un clasificador con $knn$"
   ]
  },
  {
   "cell_type": "code",
   "execution_count": null,
   "metadata": {},
   "outputs": [],
   "source": [
    "features = ['longitude', 'latitude'] # variables de interes\n",
    "neighbors = 8 # experimenta cambiando el unico parametro de knn\n",
    "classifier = KNeighborsClassifier(neighbors) # inicializamos el clasificador\n",
    "classifier.fit(citiesTrain[features], citiesTrain['category']) # una sola linea hace todos los calculos :D\n",
    "predictions = classifier.predict(citiesTest[features]) # otra linea hace el ajuste sobre el test\n",
    "prediccionesCorrectas=[predictions==citiesTest['category'].values] # contemos en cuantas observaciones realizamos la prediccion\n",
    "                                                                   # correctamente\n",
    "accuracy= np.sum(prediccionesCorrectas) / len(predictions)         # el calculo del error es una suma y una division :D\n",
    "'Presición de knn: ' + str(accuracy) + ' con ' + str(neighbors)+  ' vecinos'"
   ]
  },
  {
   "cell_type": "markdown",
   "metadata": {},
   "source": [
    "En este caso es sencillo, y barato, implementar una búsqueda en *grid*. ¿Dónde se da el mínimo?"
   ]
  },
  {
   "cell_type": "code",
   "execution_count": null,
   "metadata": {},
   "outputs": [],
   "source": [
    "for i in range(numtrain):\n",
    "    neighbors = i+1\n",
    "    classifier = KNeighborsClassifier(neighbors) # inicializamos el clasificador\n",
    "    classifier.fit(citiesTrain[features], citiesTrain['category']) \n",
    "    predictions = classifier.predict(citiesTest[features]) \n",
    "    prediccionesCorrectas=[predictions==citiesTest['category'].values] \n",
    "    accuracy= np.sum(prediccionesCorrectas) / len(predictions)         \n",
    "    print('Presición de knn: ' + str(accuracy) + ' con ' + str(neighbors+1)+  ' vecinos')"
   ]
  },
  {
   "cell_type": "markdown",
   "metadata": {},
   "source": [
    "Ahora vamos a entrenar un clasificador con *árboles*"
   ]
  },
  {
   "cell_type": "code",
   "execution_count": null,
   "metadata": {},
   "outputs": [],
   "source": [
    "split = 2 # parametro con el numero minimo de elementos en cada lado del nodo\n",
    "dt = DecisionTreeClassifier(min_samples_split=split) #  inicializamos el arbol\n",
    "dt.fit(citiesTrain[features],citiesTrain['category']) # una sola linea hace el ajuste :D \n",
    "predictions = dt.predict(citiesTest[features])  # otra linea y tenemos la predicción\n",
    "prediccionesCorrectas=[predictions==citiesTest['category'].values] #calculamos de nuevo en 2 lineas el error\n",
    "accuracy= np.sum(prediccionesCorrectas) / len(predictions)\n",
    "print('Presición : ', accuracy)"
   ]
  },
  {
   "cell_type": "markdown",
   "metadata": {},
   "source": [
    "Otro caso sencillo para implementar una búsqueda en *grid*. ¿Dónde se da el mínimo?"
   ]
  },
  {
   "cell_type": "code",
   "execution_count": null,
   "metadata": {},
   "outputs": [],
   "source": [
    "for i in range(int(numtrain**.5)):\n",
    "    split = i+2\n",
    "    dt = DecisionTreeClassifier(min_samples_split=split) #  inicializamos el arbol\n",
    "    dt.fit(citiesTrain[features],citiesTrain['category']) # una sola linea hace el ajuste :D \n",
    "    predictions = dt.predict(citiesTest[features])  # otra linea y tenemos la predicción\n",
    "    prediccionesCorrectas=[predictions==citiesTest['category'].values] #calculamos de nuevo en 2 lineas el error\n",
    "    accuracy= np.sum(prediccionesCorrectas) / len(predictions)\n",
    "    print('Presición : ' + str(accuracy) +' con ' +str(split) +' elementos en cada nodo')"
   ]
  },
  {
   "cell_type": "markdown",
   "metadata": {},
   "source": [
    "Ya tenemos un clasificador decente con $knn$ y árboles, ¿lo podremos mejorar con *random forest*?\n"
   ]
  },
  {
   "cell_type": "code",
   "execution_count": null,
   "metadata": {},
   "outputs": [],
   "source": [
    "trees = 100 #numero de arboles\n",
    "rf = RandomForestClassifier(n_estimators=trees) # inicializamos el clasificador\n",
    "rf.fit(citiesTrain[features],citiesTrain['category']) #otra linea que nos libra de cuentas\n",
    "predictions = rf.predict(citiesTest[features]) # otra linea que se agradece\n",
    "prediccionesCorrectas=[predictions==citiesTest['category'].values] #de nuevo el error consiste en solo contar :D\n",
    "accuracy= np.sum(prediccionesCorrectas) / len(predictions)\n",
    "print('Presición de random forest: ', accuracy)"
   ]
  },
  {
   "cell_type": "markdown",
   "metadata": {},
   "source": [
    "Finalmente implementamos otra búsqueda en *grid* porque __yolo__ ¿Dónde se da el mínimo?"
   ]
  },
  {
   "cell_type": "code",
   "execution_count": null,
   "metadata": {},
   "outputs": [],
   "source": [
    "for i in range(200):\n",
    "    trees = i + 1 \n",
    "    rf = RandomForestClassifier(n_estimators=trees) # inicializamos el clasificador\n",
    "    rf.fit(citiesTrain[features],citiesTrain['category']) #otra linea que nos libra de cuentas\n",
    "    predictions = rf.predict(citiesTest[features]) # otra linea que se agradece\n",
    "    prediccionesCorrectas=[predictions==citiesTest['category'].values] #de nuevo el error consiste en solo contar :D\n",
    "    accuracy= np.sum(prediccionesCorrectas) / len(predictions)\n",
    "    print('Presición con Random forest: ' + str(accuracy) + ' con ' + str(trees) +' árboles')"
   ]
  },
  {
   "cell_type": "markdown",
   "metadata": {},
   "source": [
    "Notas que utilizar muchos árboles no necesariamente disminuye el error de *test* ![](data:image/jpeg;base64,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) \n"
   ]
  },
  {
   "cell_type": "code",
   "execution_count": null,
   "metadata": {},
   "outputs": [],
   "source": []
  }
 ],
 "metadata": {
  "kernelspec": {
   "display_name": "Python 3",
   "language": "python",
   "name": "python3"
  },
  "language_info": {
   "codemirror_mode": {
    "name": "ipython",
    "version": 3
   },
   "file_extension": ".py",
   "mimetype": "text/x-python",
   "name": "python",
   "nbconvert_exporter": "python",
   "pygments_lexer": "ipython3",
   "version": "3.6.5"
  }
 },
 "nbformat": 4,
 "nbformat_minor": 1
}
